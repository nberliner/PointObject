{
 "cells": [
  {
   "cell_type": "markdown",
   "metadata": {},
   "source": [
    "## Loading different file formats\n",
    "\n",
    "The pipeline is build to work with rapidstorm input as well as generic xyt data. Generic xyt data has to be column separated data with one header line. The header must contain as labels for the localisations `x`, `y`, and `frame`. The order of these can be arbitrary and there can be additional columns (which will not be used). This might look for example like,\n",
    "```\n",
    "x      y      frame     Photon Count    Something Else\n",
    "10.5   30.4   1         140             3000\n",
    "13.8   25.3   2         90              2400\n",
    "...\n",
    "```"
   ]
  },
  {
   "cell_type": "code",
   "execution_count": 1,
   "metadata": {
    "collapsed": false
   },
   "outputs": [
    {
     "name": "stdout",
     "output_type": "stream",
     "text": [
      "Populating the interactive namespace from numpy and matplotlib\n"
     ]
    }
   ],
   "source": [
    "%pylab inline\n",
    "import sys, os\n",
    "sys.path.insert(1, \"/home/berliner/08 GitHub/PointObject\")\n",
    "sys.path.insert(1, \"/home/berliner/08 GitHub/PointObject/lib\")\n",
    "from PointObject import PointObject"
   ]
  },
  {
   "cell_type": "markdown",
   "metadata": {
    "collapsed": false,
    "scrolled": true
   },
   "source": [
    "We can now load different file formats by adding a flag to the `loadFile()` function.\n",
    "```python\n",
    "    def loadFile(fname, dataType='rapdistorm'):\n",
    "        \"\"\"\n",
    "        Load a localisation file into PointObject.\n",
    "        \n",
    "        Currently supported input formats are rapidstorm and xyt. For xyt data\n",
    "        has to be tab separated file with one header line containing 'x, 'y', 'frame'\n",
    "        as labels for the columns. Additional columns may be present which will\n",
    "        be ignored.\n",
    "        \n",
    "        Input:\n",
    "          frame (str):   File that should be loaded into PointObject\n",
    "          \n",
    "          dataType (str):  Data type of the input file. Possible values are\n",
    "                           'rapidstorm' and 'xyt'.\n",
    "        \n",
    "        \"\"\"\n",
    "```\n",
    "\n",
    "For `rapidstorm` input data we run"
   ]
  },
  {
   "cell_type": "code",
   "execution_count": 2,
   "metadata": {
    "collapsed": true
   },
   "outputs": [],
   "source": [
    "# Set the filename\n",
    "subfolder = 'MitoTracker - single color'\n",
    "fname     = os.path.join('150312_mito', \\\n",
    "                         'cell6_10ms_b9_p55_gain200_p2_1_MMStack.ome.txt' )\n",
    "\n",
    "# Read the data and convert the localisations into the mito movie frames\n",
    "mito = PointObject()\n",
    "mito.loadFile(os.path.join('..','..','data',subfolder,fname))"
   ]
  },
  {
   "cell_type": "markdown",
   "metadata": {},
   "source": [
    "And for `xyt` data we run"
   ]
  },
  {
   "cell_type": "code",
   "execution_count": 3,
   "metadata": {
    "collapsed": false
   },
   "outputs": [],
   "source": [
    "# Set the filename\n",
    "subfolder = 'MitoTracker - single color'\n",
    "fname     = os.path.join('150312_mito', \\\n",
    "                         'cell6_10ms_b9_p55_gain200_p2_1_MMStack.ome.xyt.txt' )\n",
    "\n",
    "# Read the data and convert the localisations into the mito movie frames\n",
    "mito = PointObject()\n",
    "mito.loadFile(os.path.join('..','..','data',subfolder,fname), dataType='xyt')"
   ]
  }
 ],
 "metadata": {
  "kernelspec": {
   "display_name": "Python 3",
   "language": "python",
   "name": "python3"
  },
  "language_info": {
   "codemirror_mode": {
    "name": "ipython",
    "version": 3
   },
   "file_extension": ".py",
   "mimetype": "text/x-python",
   "name": "python",
   "nbconvert_exporter": "python",
   "pygments_lexer": "ipython3",
   "version": "3.3.5"
  }
 },
 "nbformat": 4,
 "nbformat_minor": 0
}
