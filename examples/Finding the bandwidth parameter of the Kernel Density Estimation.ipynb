{
 "cells": [
  {
   "cell_type": "markdown",
   "metadata": {},
   "source": [
    "## The optimal bandwidth parameter for KDE\n",
    "The optimal bandwidth parameter for the Kernel Density Estimation can be determined via cross-validation. By default the first frame is used to estimate the parameter which is then used for all frames. In order to find the optimum bandwidth a 20-fold cross-validation is performed on range from 15nm to 60nm.\n",
    "This range should usually be broad enough, however, if the best parameter is one of the borders, i.e. 15nm or 60nm, a warning message is displayed. It is then advisible to manually run the cross-validation again width a shifted sampling range. If the optimal bandwidth would for example be reported to be 15nm one could try to run the cross-validation again on the range from 10nm to 20nm."
   ]
  },
  {
   "cell_type": "code",
   "execution_count": 1,
   "metadata": {
    "collapsed": false
   },
   "outputs": [
    {
     "name": "stdout",
     "output_type": "stream",
     "text": [
      "Populating the interactive namespace from numpy and matplotlib\n"
     ]
    }
   ],
   "source": [
    "%pylab inline\n",
    "import sys, os\n",
    "sys.path.insert(1, \"/home/berliner/08 GitHub/PointObject\")\n",
    "sys.path.insert(1, \"/home/berliner/08 GitHub/PointObject/lib\")\n",
    "from PointObject import PointObject"
   ]
  },
  {
   "cell_type": "code",
   "execution_count": 2,
   "metadata": {
    "collapsed": false
   },
   "outputs": [
    {
     "name": "stdout",
     "output_type": "stream",
     "text": [
      "Loading /tmp/my_mito_pointobject.p\n"
     ]
    }
   ],
   "source": [
    "# Loading a PointObject()\n",
    "from utils import loadPointObject\n",
    "mito = loadPointObject('/tmp/my_mito_pointobject.p')"
   ]
  },
  {
   "cell_type": "markdown",
   "metadata": {},
   "source": [
    "Let us assume you got the following warning message\n",
    "```python\n",
    "/home/berliner/08 GitHub/PointObject/lib/contour.py:211: UserWarning: Warning: The bandwidth parameter was estimated to be optimal at one sampling boundary\n",
    "  warnings.warn(\"Warning: The bandwidth parameter was estimated to be optimal at one sampling boundary\")\n",
    "/home/berliner/08 GitHub/PointObject/lib/contour.py:212: UserWarning: Try shifting the sampling window!\n",
    "  warnings.warn(\"Try shifting the sampling window!\")\n",
    "```\n",
    "This tells you that you might not have found the optimal bandwidth parameter.\n",
    "In order to find the optimum we run the cross-validation manually\n",
    "\n",
    "```python\n",
    "    def _optimiseBandwidth(lower=15, upper=60, num=45, frame=1):\n",
    "        \"\"\"\n",
    "        Run the cross-validation for determining the optimal bandwidth parameter\n",
    "        for the Kernel Density Estimation.\n",
    "        \n",
    "        Input:\n",
    "          lower (float):   Lower bound of the bandwidth parameter range that will be sampled\n",
    "          \n",
    "          upper (float):   Upper bound of the bandwidth parameter range that will be sampled\n",
    "          \n",
    "          num (int):       Number of points on the range from lower to upper that will be sampled\n",
    "          \n",
    "          frame (int):     The frame that will be used for bandwidth estimation\n",
    "          \n",
    "        \"\"\"\n",
    "```"
   ]
  },
  {
   "cell_type": "code",
   "execution_count": 4,
   "metadata": {
    "collapsed": false
   },
   "outputs": [
    {
     "name": "stdout",
     "output_type": "stream",
     "text": [
      "Finished parameter estimation in: 0:00:36\n",
      "\n",
      "Using the best estimated paramters:\n",
      "bandwidth:\t42.6315789474\n",
      "kernel:\tgaussian\n",
      "algorithm:\tkd_tree\n",
      "\n",
      "\n"
     ]
    },
    {
     "data": {
      "text/plain": [
       "42.631578947368425"
      ]
     },
     "execution_count": 4,
     "metadata": {},
     "output_type": "execute_result"
    }
   ],
   "source": [
    "optimalBandwidth = mito.contour._optimiseBandwidth(lower=30, upper=50, num=20)"
   ]
  },
  {
   "cell_type": "markdown",
   "metadata": {},
   "source": [
    "You can then run the kernel density estimate with the optimal value for the bandwidth parameter.\n",
    "```python\n",
    "    def kernelDensityEstimate(self, kernel='gaussian', bandwidth=None):\n",
    "        \"\"\"\n",
    "        Calculate a kernel density estimate of point localisation data.\n",
    "        \n",
    "        Input:\n",
    "           kernel (str):      The kernel that should be used for the density estimation\n",
    "                              Please refer to the sklearn website for a list of possible\n",
    "                              values for the kernel ( http://scikit-learn.org/stable/modules/generated/sklearn.neighbors.KernelDensity.html#sklearn.neighbors.KernelDensity )\n",
    "        \n",
    "          bandwidth (float):  The bandwidth to be used\n",
    "          \n",
    "        \"\"\"\n",
    "```"
   ]
  },
  {
   "cell_type": "code",
   "execution_count": 5,
   "metadata": {
    "collapsed": false
   },
   "outputs": [
    {
     "name": "stdout",
     "output_type": "stream",
     "text": [
      "Finished kernel density estimation in: 0:09:04\n"
     ]
    }
   ],
   "source": [
    "mito.contour.kernelDensityEstimate(bandwidth=optimalBandwidth)"
   ]
  },
  {
   "cell_type": "markdown",
   "metadata": {},
   "source": [
    "From here you can continue with finding the contour of the newly generated \"super-resolution images\""
   ]
  },
  {
   "cell_type": "code",
   "execution_count": null,
   "metadata": {
    "collapsed": true
   },
   "outputs": [],
   "source": []
  }
 ],
 "metadata": {
  "kernelspec": {
   "display_name": "Python 3",
   "language": "python",
   "name": "python3"
  },
  "language_info": {
   "codemirror_mode": {
    "name": "ipython",
    "version": 3
   },
   "file_extension": ".py",
   "mimetype": "text/x-python",
   "name": "python",
   "nbconvert_exporter": "python",
   "pygments_lexer": "ipython3",
   "version": "3.4.3"
  }
 },
 "nbformat": 4,
 "nbformat_minor": 0
}
